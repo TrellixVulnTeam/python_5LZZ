{
 "cells": [
  {
   "cell_type": "markdown",
   "metadata": {},
   "source": [
    "### MiniConda环境下创建了arcgispython环境，然后使用conda安装arcgis、esri、jupyter及相应依赖包\n",
    "\n",
    "#### conda的常用命令\n",
    "* 创建环境 conda creat -n <env-name> <env-version>\n",
    "* 进入环境 activate <env-name>\n",
    "* 安装包   conda install -c <module-name>\n",
    "* 列出安装的包 conda list\n",
    "* 更新包  conda upgrade -c <module-name>\n",
    "* 删除包  conda remove --env-name module-name\n",
    "* 离开环境 deacticate\n",
    "* 删除环境 conda env remove -n <env-name>"
   ]
  },
  {
   "cell_type": "code",
   "execution_count": 1,
   "metadata": {},
   "outputs": [
    {
     "data": {
      "application/vnd.jupyter.widget-view+json": {
       "model_id": "983afece8a784045a45a3ba3120ca6e7"
      }
     },
     "metadata": {},
     "output_type": "display_data"
    }
   ],
   "source": [
    "from arcgis.gis import GIS\n",
    "my_gis = GIS()\n",
    "my_gis.map()"
   ]
  }
 ],
 "metadata": {
  "kernelspec": {
   "display_name": "Python 3",
   "language": "python",
   "name": "python3"
  },
  "language_info": {
   "codemirror_mode": {
    "name": "ipython",
    "version": 3
   },
   "file_extension": ".py",
   "mimetype": "text/x-python",
   "name": "python",
   "nbconvert_exporter": "python",
   "pygments_lexer": "ipython3",
   "version": "3.6.4"
  }
 },
 "nbformat": 4,
 "nbformat_minor": 2
}
