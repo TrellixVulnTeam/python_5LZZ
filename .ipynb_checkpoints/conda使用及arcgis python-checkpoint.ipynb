{
 "cells": [
  {
   "cell_type": "markdown",
   "metadata": {},
   "source": [
    "### MiniConda环境下创建了arcgispython环境，然后使用conda安装arcgis、esri、jupyter及相应依赖包\n",
    "\n",
    "#### conda的常用命令\n",
    "* 创建环境 conda creat -n *env-name* *env-version*\n",
    "* 进入环境 activate *env-name*\n",
    "* 安装包   conda install -c *module-nam*\n",
    "* 列出安装的包 conda list\n",
    "* 更新包  conda upgrade -c *module-name*\n",
    "* 删除包  conda remove --env-name module-name\n",
    "* 离开环境 deacticate\n",
    "* 删除环境 conda env remove -n *env-name*"
   ]
  },
  {
   "cell_type": "code",
   "execution_count": 1,
   "metadata": {
    "scrolled": true
   },
   "outputs": [
    {
     "data": {
      "application/vnd.jupyter.widget-view+json": {
       "model_id": "294ebb5cbe03431492b41572959a3af6"
      }
     },
     "metadata": {},
     "output_type": "display_data"
    }
   ],
   "source": [
    "from arcgis.gis import GIS\n",
    "my_gis = GIS()\n",
    "my_gis.map()"
   ]
  },
  {
   "cell_type": "markdown",
   "metadata": {},
   "source": [
    "### Working with different authentication schemes\n",
    "* gis = GIS(\"url(optional)\",\"username(optional)\",\"password(optional)\")"
   ]
  },
  {
   "cell_type": "markdown",
   "metadata": {},
   "source": [
    "####  Connect to ArcGIS Online as an anonymous user"
   ]
  },
  {
   "cell_type": "code",
   "execution_count": 2,
   "metadata": {
    "scrolled": true
   },
   "outputs": [
    {
     "name": "stdout",
     "output_type": "stream",
     "text": [
      "Logged in as anonymous user to ArcGIS Online\n"
     ]
    }
   ],
   "source": [
    "print(\"Logged in as anonymous user to \" + my_gis.properties.portalName)"
   ]
  },
  {
   "cell_type": "markdown",
   "metadata": {},
   "source": [
    "#### Connect to your ArcGIS Enterprise as an anonymous user"
   ]
  },
  {
   "cell_type": "code",
   "execution_count": 3,
   "metadata": {
    "scrolled": true
   },
   "outputs": [
    {
     "name": "stdout",
     "output_type": "stream",
     "text": [
      "Logged in as anonymous user to Portal for ArcGIS\n"
     ]
    }
   ],
   "source": [
    "gis = GIS(\"https://python.playground.esri.com/portal\")\n",
    "print(\"Logged in as anonymous user to \" + gis.properties.portalName)"
   ]
  },
  {
   "cell_type": "markdown",
   "metadata": {},
   "source": [
    "### Accessing and creating content"
   ]
  },
  {
   "cell_type": "code",
   "execution_count": 4,
   "metadata": {
    "scrolled": true
   },
   "outputs": [
    {
     "data": {
      "text/plain": [
       "arcgis.gis.ContentManager"
      ]
     },
     "execution_count": 4,
     "metadata": {},
     "output_type": "execute_result"
    }
   ],
   "source": [
    "portal = GIS(\"https://www.arcgis.com\",\"bluexiang\",\"Super123\")\n",
    "type(portal.content)"
   ]
  },
  {
   "cell_type": "code",
   "execution_count": 5,
   "metadata": {
    "scrolled": true
   },
   "outputs": [
    {
     "data": {
      "text/plain": [
       "arcgis.gis.ContentManager"
      ]
     },
     "execution_count": 5,
     "metadata": {},
     "output_type": "execute_result"
    }
   ],
   "source": [
    "myportal =  GIS(\"https://liy.esrichina.com/arcgis\", \"arcgis\", \"Super123\",verify_cert=False)\n",
    "type(myportal.content)"
   ]
  },
  {
   "cell_type": "markdown",
   "metadata": {},
   "source": [
    "### Creating new content"
   ]
  },
  {
   "cell_type": "code",
   "execution_count": 6,
   "metadata": {
    "scrolled": true
   },
   "outputs": [],
   "source": [
    "#上传csv创建item\n",
    "csv_path = r\"E:\\arcgis\\a.csv\"\n",
    "csv_properties={'title':'csvfile',\n",
    "                'description':'upload csv file',\n",
    "                'tags':'arcgis, python'}\n",
    "thumbnail_path = r\"E:\\arcgis\\bord.jpg\"\n",
    "\n",
    "csv_item = myportal.content.add(item_properties=csv_properties, data=csv_path,\n",
    "                                     thumbnail = thumbnail_path)"
   ]
  },
  {
   "cell_type": "code",
   "execution_count": 7,
   "metadata": {
    "scrolled": true
   },
   "outputs": [
    {
     "data": {
      "text/html": [
       "<div class=\"item_container\" style=\"height: auto; overflow: hidden; border: 1px solid #cfcfcf; border-radius: 2px; background: #f6fafa; line-height: 1.21429em; padding: 10px;\">\n",
       "                    <div class=\"item_left\" style=\"width: 210px; float: left;\">\n",
       "                       <a href='https://liy.esrichina.com/arcgis/home/item.html?id=2b4dad16965e44ed914244fe34203a69' target='_blank'>\n",
       "                        <img src='data:image/png;base64,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' width='200' height='133' class=\"itemThumbnail\">\n",
       "                       </a>\n",
       "                    </div>\n",
       "\n",
       "                    <div class=\"item_right\"     style=\"float: none; width: auto; overflow: hidden;\">\n",
       "                        <a href='https://liy.esrichina.com/arcgis/home/item.html?id=2b4dad16965e44ed914244fe34203a69' target='_blank'><b>csvfile</b>\n",
       "                        </a>\n",
       "                        <br/><img src='https://liy.esrichina.com/arcgis/home/js/jsapi/esri/css/images/item_type_icons/layers16.png' style=\"vertical-align:middle;\">CSV by arcgis\n",
       "                        <br/>Last Modified: 三月 06, 2018\n",
       "                        <br/>0 comments, 0 views\n",
       "                    </div>\n",
       "                </div>\n",
       "                "
      ],
      "text/plain": [
       "<Item title:\"csvfile\" type:CSV owner:arcgis>"
      ]
     },
     "execution_count": 7,
     "metadata": {},
     "output_type": "execute_result"
    }
   ],
   "source": [
    "csv_item"
   ]
  },
  {
   "cell_type": "markdown",
   "metadata": {},
   "source": [
    "### Publishing an item as a web layer"
   ]
  },
  {
   "cell_type": "code",
   "execution_count": 8,
   "metadata": {
    "scrolled": true
   },
   "outputs": [
    {
     "data": {
      "text/html": [
       "<div class=\"item_container\" style=\"height: auto; overflow: hidden; border: 1px solid #cfcfcf; border-radius: 2px; background: #f6fafa; line-height: 1.21429em; padding: 10px;\">\n",
       "                    <div class=\"item_left\" style=\"width: 210px; float: left;\">\n",
       "                       <a href='https://liy.esrichina.com/arcgis/home/item.html?id=7d8d7d5a15d945408eddde0ba38c925d' target='_blank'>\n",
       "                        <img src='data:image/png;base64,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' width='200' height='133' class=\"itemThumbnail\">\n",
       "                       </a>\n",
       "                    </div>\n",
       "\n",
       "                    <div class=\"item_right\"     style=\"float: none; width: auto; overflow: hidden;\">\n",
       "                        <a href='https://liy.esrichina.com/arcgis/home/item.html?id=7d8d7d5a15d945408eddde0ba38c925d' target='_blank'><b>csvfile</b>\n",
       "                        </a>\n",
       "                        <br/><img src='https://liy.esrichina.com/arcgis/home/js/jsapi/esri/css/images/item_type_icons/featureshosted16.png' style=\"vertical-align:middle;\">Feature Layer Collection by arcgis\n",
       "                        <br/>Last Modified: 三月 06, 2018\n",
       "                        <br/>0 comments, 0 views\n",
       "                    </div>\n",
       "                </div>\n",
       "                "
      ],
      "text/plain": [
       "<Item title:\"csvfile\" type:Feature Layer Collection owner:arcgis>"
      ]
     },
     "execution_count": 8,
     "metadata": {},
     "output_type": "execute_result"
    }
   ],
   "source": [
    "csv_feature_layer_item = csv_item.publish()\n",
    "csv_feature_layer_item"
   ]
  },
  {
   "cell_type": "markdown",
   "metadata": {},
   "source": [
    "### Organizing content\n",
    "Over time, your GIS can get filled with content. You can create folders on your GIS, just like in your file system, and use it to organize.使用文件夹来管理内容"
   ]
  },
  {
   "cell_type": "code",
   "execution_count": 9,
   "metadata": {
    "scrolled": true
   },
   "outputs": [
    {
     "data": {
      "text/plain": [
       "{'folder': None,\n",
       " 'itemId': '2b4dad16965e44ed914244fe34203a69',\n",
       " 'owner': 'arcgis',\n",
       " 'success': True}"
      ]
     },
     "execution_count": 9,
     "metadata": {},
     "output_type": "execute_result"
    }
   ],
   "source": [
    "# create new folder\n",
    "myportal.content.create_folder(folder= 'ports')\n",
    "# move the ports_item into this folder\n",
    "csv_item.move(folder= 'ports')\n",
    "# move back to root\n",
    "csv_item.move(folder='/')"
   ]
  },
  {
   "cell_type": "markdown",
   "metadata": {},
   "source": [
    "### Managing your content"
   ]
  },
  {
   "cell_type": "code",
   "execution_count": 10,
   "metadata": {
    "scrolled": true
   },
   "outputs": [
    {
     "name": "stdout",
     "output_type": "stream",
     "text": [
      "7d8d7d5a15d945408eddde0ba38c925d\n",
      "csvfile\n",
      "['ArcGIS', 'Service', 'Definition', '.sd']\n"
     ]
    }
   ],
   "source": [
    "# item id\n",
    "print(csv_feature_layer_item.id)\n",
    "# title\n",
    "print(csv_feature_layer_item.title)\n",
    "# tags\n",
    "print(csv_feature_layer_item.tags)"
   ]
  },
  {
   "cell_type": "code",
   "execution_count": 11,
   "metadata": {
    "scrolled": true
   },
   "outputs": [
    {
     "data": {
      "text/plain": [
       "['python', 'arcgis']"
      ]
     },
     "execution_count": 11,
     "metadata": {},
     "output_type": "execute_result"
    }
   ],
   "source": [
    "# update the tags\n",
    "csv_feature_layer_item.update(item_properties={'tags':'python, arcgis'})\n",
    "csv_feature_layer_item.tags"
   ]
  },
  {
   "cell_type": "markdown",
   "metadata": {},
   "source": [
    "### Finding relationships between items\n",
    "\n",
    "forward as the current item is a service and we are looking for the original data used to publish it.\n",
    "(forward去寻找用来发布本服务的元数据)"
   ]
  },
  {
   "cell_type": "code",
   "execution_count": 12,
   "metadata": {
    "scrolled": true
   },
   "outputs": [
    {
     "data": {
      "text/plain": [
       "[<Item title:\"csvfile\" type:CSV owner:arcgis>]"
      ]
     },
     "execution_count": 12,
     "metadata": {},
     "output_type": "execute_result"
    }
   ],
   "source": [
    "csv_feature_layer_item.related_items('Service2Data', 'forward')"
   ]
  },
  {
   "cell_type": "markdown",
   "metadata": {},
   "source": [
    "相反，使用reverse来寻找用本数据发布的服务"
   ]
  },
  {
   "cell_type": "code",
   "execution_count": 13,
   "metadata": {
    "scrolled": true
   },
   "outputs": [
    {
     "data": {
      "text/plain": [
       "[<Item title:\"csvfile\" type:Feature Layer Collection owner:arcgis>]"
      ]
     },
     "execution_count": 13,
     "metadata": {},
     "output_type": "execute_result"
    }
   ],
   "source": [
    "csv_item.related_items('Service2Data', 'reverse')"
   ]
  }
 ],
 "metadata": {
  "kernelspec": {
   "display_name": "Python [default]",
   "language": "python",
   "name": "python3"
  },
  "language_info": {
   "codemirror_mode": {
    "name": "ipython",
    "version": 3
   },
   "file_extension": ".py",
   "mimetype": "text/x-python",
   "name": "python",
   "nbconvert_exporter": "python",
   "pygments_lexer": "ipython3",
   "version": "3.6.4"
  }
 },
 "nbformat": 4,
 "nbformat_minor": 2
}
