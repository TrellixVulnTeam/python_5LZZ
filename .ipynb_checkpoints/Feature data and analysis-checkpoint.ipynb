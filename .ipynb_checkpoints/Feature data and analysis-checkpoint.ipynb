{
 "cells": [
  {
   "cell_type": "markdown",
   "metadata": {},
   "source": [
    "##  <center>Feature data and analysis</center>"
   ]
  },
  {
   "cell_type": "markdown",
   "metadata": {},
   "source": [
    "<img src=\"http://esri.github.io/arcgis-python-api/notebooks/nbimages/guide_features_01.png\"></img>"
   ]
  },
  {
   "cell_type": "markdown",
   "metadata": {},
   "source": [
    "### Accessing Feature Layers\n",
    "    Feature Layer是GIS中重要的一个概念，下面提供几种去访问featurelayer的方法\n",
    "#### 1.Searching the GIS for feature layers 通过查询的方式"
   ]
  },
  {
   "cell_type": "code",
   "execution_count": 3,
   "metadata": {},
   "outputs": [],
   "source": [
    "# Establish a connection to your GIS.\n",
    "from arcgis.gis import GIS\n",
    "from IPython.display import display\n",
    "gis = GIS(\"https://liy.esrichina.com/arcgis\",\"arcgis\",\"Super123\",verify_cert=False)"
   ]
  },
  {
   "cell_type": "code",
   "execution_count": 8,
   "metadata": {},
   "outputs": [
    {
     "data": {
      "text/html": [
       "<div class=\"item_container\" style=\"height: auto; overflow: hidden; border: 1px solid #cfcfcf; border-radius: 2px; background: #f6fafa; line-height: 1.21429em; padding: 10px;\">\n",
       "                    <div class=\"item_left\" style=\"width: 210px; float: left;\">\n",
       "                       <a href='https://liy.esrichina.com/arcgis/home/item.html?id=7d8d7d5a15d945408eddde0ba38c925d' target='_blank'>\n",
       "                        <img src='data:image/png;base64,/9j/4AAQSkZJRgABAQAAAQABAAD/2wBDAAYEBQYFBAYGBQYHBwYIChAKCgkJChQODwwQFxQYGBcUFhYaHSUfGhsjHBYWICwgIyYnKSopGR8tMC0oMCUoKSj/2wBDAQcHBwoIChMKChMoGhYaKCgoKCgoKCgoKCgoKCgoKCgoKCgoKCgoKCgoKCgoKCgoKCgoKCgoKCgoKCgoKCgoKCj/wAARCABVAlgDASIAAhEBAxEB/8QAHQABAQACAwEBAQAAAAAAAAAAAAYHCAQFCQMCAf/EAEAQAAECBAQFAQYEAgcJAAAAAAABAgMEBQYRVpXSBxIWFyExCBMUQVFhIjJxoYGRFSNCUoKi8BglU3KjscHC4f/EABQBAQAAAAAAAAAAAAAAAAAAAAD/xAAUEQEAAAAAAAAAAAAAAAAAAAAA/9oADAMBAAIRAxEAPwDakAAAAAAAAAAAAAAAAAAAAAAAAAAAAAAAAAAAAAAAAAAAAAAAAAAAAAAAAAAAAAAAAAAAAAAAAAAAAAAAAAAAAAAAAAAAAAAAAAAAAAAAAAAAAAAAAAAAAAAAAAAAAAAAAAAAAAAAAAAAAAAAAAAAAAAAAAAAAAAAAAAAAAAAAAAAAAAAAAAAAAAAAAAAAAAAAAAAAAAAAAAADiVCfladKRJqfmoEpKwkxiRo70Yxifdy+ET9QOWCa67tPNNB1CFuHXdp5poOoQtwFKCa67tPNNB1CFuHXdp5poOoQtwFKCa67tPNNB1CFuHXdp5poOoQtwFKCa67tPNNB1CFuHXdp5poOoQtwFKCa67tPNNB1CFuHXdp5poOoQtwFKCa67tPNNB1CFuHXdp5poOoQtwFKCa67tPNNB1CFuHXdp5poOoQtwFKCa67tPNNB1CFuHXdp5poOoQtwFKCa67tPNNB1CFuHXdp5poOoQtwFKCa67tPNNB1CFuHXdp5poOoQtwFKCa67tPNNB1CFuHXdp5poOoQtwHWcY6xWKFw7rlQt9JdJ6BLvekWNERiQWo1cXtTBeZ6f2W/Nf5GvfszcWq3N30yh3RXY03Jz8NyQVnonO5I6YcrWvXymKIqYL4xw+ZlD2iLnoVX4RXBIUm46NHm4jITkgw56E572tjMVyInN58Ipo9BivhRGOY7le38rkA9TQpFW7flvuoVM/pO6aCs+6VhrMYVCD5iciK7DB2Hrj6HYdd2nmmg6hC3AYD4ue0fUKJdb6XaMnLOl5ReWPFn5eIjor/m1GqrVa1PTFfKmUOCvFyncSpF8L3SSVclmI6Zk1diit9OeGvzb5/VP4opqBxppj5DiBXJtZ+Sn5OpTcacl5iTmWRmvY9/MiKjXfhwxw8/v4UyB7KNPp9NumLc1crFJpsrDgvl5aHHnoUN8WI9UauLHO5kRERfXDyvj5gboHziPbDY58RyMY1FcrnLgiIn1J7ru0800HUIW4199rHihLzFOk7YtupQJmWmGpMT8eUjNiNezH8ELmaq4Y4c6+nhG/UDHnFvjLc1VvapOodyTcrSJeO6FJJTozoUN8Nq+Huw8vx9fP8A2wQ2v4OTtz1KyKXN3g2UScjQGxGPhYpEexUxa6K3DBrlRUXBP29DzphtVzkan9o9ErMum26PaVCpc9dtAiTklIwJaM5tQhKjnshtaqp+L6oBZVaeSnSEeadLzUykJvN7qWhLEiP+zWp5VTWpvtWwOqFZEt9W2/z+75/eL8UiY/nVv5f8GP8AEv8AjpxApTOFlfS2ropb6m+EyHDSUnoboqsdEYj+XB2OPI5fQ0QifmUD1PY5HtRzVRWr5RU+h+zE3Bm/aM/hjbn9P3RS21JstyRUmp6GkX8KqjebF2PNyoirj5LTru0800HUIW4D7XpdNNs6gTNYrUZYUnARPDW8znuX0Y1Pm5V/0iGLv9pixP6E+P8A95/Ee8938B8O333/ADY83Jy/4sfsd/e0HhveyNS4LhpU22HDX3TErDWsgrgv9Y1rXo3m8/mVF9Poad8R7EbalUisp9YplYpboipAmZSbhRHK36PY12LXJj+n0A2gpPtPWLOzCQpqFVqe3/izEu1zP+m5y/sdxP8AtEcOZSFzwqzFm1/uwJSLj/ma1P3NSrM4bzlxqx8er2/SJFVVXR56pQEVuHy92jlen8cDaK3bI4O0ijyspMzdrVONDaiRJubm4LokZ3zcq83j9EAzXLRocxLwo8FyOhRWo9rk+aKmKL+5rj7TXFW7LLuem0y33JT5V0D4hZh0KHF+JXmVFbg7HBqYYfJfK/YzTLXrZ0vLw4MC56BDgwmoxjGz8LBrUTBET8XyRDUz2uqvK1jiDT41MqUnPyTKcxjHSswyK1i88RXY8uPnyn7AbCcAeK0vxDoKS9QjQmXJKIvxMFqcqRWoqIkVqfRcURU+S/qhlk86uDNRiUviVbU1CnWSSNnYSRosWK2ExISuRIiOc7+ysNVT/SG+HXdp5poOoQtwH6vu8KVZFAj1euR/dS0P8LGN8vivXyjGJ83Lgv8ALFcEQ17tv2mLgr15S0hIWpAmpOYi8kOUgRHLMq3D151/Dinr6ImCYePUx37Ul7MuviFEk5KYhR6XSG/DwHwn8zYj1RFiPx9PDk5f8KFr7HkejUOFcFXrVWpEi6OsOVl/ipqHDiuwxc/BFdjy+Wfrh9gNsmKrmoqtVqqmKtX1Q+hNdd2nmmg6hC3Dru0800HUIW4ClBNdd2nmmg6hC3Dru0800HUIW4ClBNdd2nmmg6hC3Dru0800HUIW4ClBNdd2nmmg6hC3Dru0800HUIW4ClBNdd2nmmg6hC3Dru0800HUIW4ClBNdd2nmmg6hC3Dru0800HUIW4ClBNdd2nmmg6hC3Dru0800HUIW4ClBNdd2nmmg6hC3Dru0800HUIW4ClBNdd2nmmg6hC3Dru0800HUIW4ClBNdd2nmmg6hC3Dru0800HUIW4ClBNdd2nmmg6hC3Dru0800HUIW4ClBNdd2nmmg6hC3Dru0800HUIW4ClBNdd2nmmg6hC3HbUmrU+sSyzFKqEpPy6OVnvZWM2I1HJ6pi1VTHyngDngAAcOp06TqknFlKlKS85KRUwfAmIbYjH/ZWqiov8TmACS7b2Tk229Mg7R23snJtt6ZB2laAJLtvZOTbb0yDtHbeycm23pkHaVoAku29k5NtvTIO0dt7JybbemQdpWgCS7b2Tk229Mg7R23snJtt6ZB2laAJLtvZOTbb0yDtHbeycm23pkHaVoAku29k5NtvTIO0dt7JybbemQdpWgCS7b2Tk229Mg7R23snJtt6ZB2laAJLtvZOTbb0yDtHbeycm23pkHaVoAku29k5NtvTIO0dt7JybbemQdpWgCS7b2Tk229Mg7R23snJtt6ZB2laAJLtvZOTbb0yDtHbeycm23pkHaVoAi57hjZc1JzEulqUKB76G6F72DT4LXsxTDFq8vhUx9fsabcCeH7Lz4jtp0xEg/B0x6TczDjNx9/CZERroeCfVVRP0xN9J2A6YlI8GHFfAfFY5iRYa/iZimHMn3T1Qx/w74OWrYc/DqFIhTcWpshuhLNTMw5znI71xamDPl9AO87b2Tk229Mg7R23snJtt6ZB2laAISJwksOJU2T7rSpHv2M5EakBEhYfeEn4FX7qmP3OZD4bWSxvKlnW6qfenQV/wDUrwBJdt7JybbemQdpp37T9sst7ibGSRpsCQp81BhxJWFLQWQ4aojUavK1vzxRcf8A6b4mD/aK4R1PiTUKBMUSNIy0WVZGhTEWZe5PwLyqzBERccF5v5gfjhDwAo1ryfxl1y0nW6zHb+OHHhpFl4GOCqjWvReZ3j8y/omHzyN23snJtt6ZB2nc25LT0nQabLVaabOVGDLw4cxMNTBIsRGojnon3VMTtAIqoWPYVMkJqdnLVtmXk4EJ0SNFfToKNYxExVV/D6IiGiE1Sn1m4Z+PaVAqc1R1mHPl5dkJ8VyQeb8LXq3FfTBPX+J6PTECFMQXwZiEyLBiJyuY9qOa5PoqKfRqI1qIiIiJ6IiAYt4dW9at023Anajwyp9DnIa+5iStQpENrmqiIuLVcxFczz4dh9Sn7b2Tk229Mg7StAEl23snJtt6ZB2jtvZOTbb0yDtK0ASXbeycm23pkHaO29k5NtvTIO0rQBJdt7JybbemQdpg32uratWh2ZSYtKpVPpdUiTqthfBSzYSxWci+8R3KiIqfl9f/ACps+RF2cM7bu24JerXHKxKjFl4PuYMCNFX3MNMcVXkTDFVx844+ifQDBXsh2JQa1b9brNepEpUoyTXwUNs5CZFZDRrWudgxyLg5VemKr9Ew+ZnWqcO7ZbTZpKRZ9qpPLDX3PxFOhJCR/wAldytxwRfOCft6lHQqHS6DKOlaLTZOnSznrEWFKQWwmq5fVcGoiY+E/kdmqeANJeAnCel35dNwPrM8kam0eYa1YUo3kZN8zomCovhWs/q08J5/Q2u7cWXytatn26qNTBMadBXD/Kfyw+H9uWKk2ltU9ZRZtGJGcsZ8RX8uPLjzKv8AeX0K4CS7b2Tk229Mg7R23snJtt6ZB2laAJLtvZOTbb0yDtHbeycm23pkHaVoAku29k5NtvTIO0dt7JybbemQdpWgCS7b2Tk229Mg7R23snJtt6ZB2laAJLtvZOTbb0yDtHbeycm23pkHaVoAku29k5NtvTIO0dt7JybbemQdpWgCS7b2Tk229Mg7R23snJtt6ZB2laAJLtvZOTbb0yDtHbeycm23pkHaVoAku29k5NtvTIO0dt7JybbemQdpWgCS7b2Tk229Mg7R23snJtt6ZB2laAJLtvZOTbb0yDtHbeycm23pkHaVoAku29k5NtvTIO0dt7JybbemQdpWgCS7b2Tk229Mg7Tu6LRabQ5Z0tRqbJU6Wc9YjoUpBbCYrlREVVRqImPhPP2OyAAAAAAAAAAAAAAAAAAAAAAAAAAAAAAAAAAAAAAAAAAAAAAAAAAAAAAAAAAAAAAAAAAAAAAAAAAAAAAAAAAAAAAAAAAAAAAAAAAAAAAAAAAAAAAAAAAAAAAAAAAAAAAAAAAAAAAAAAAAAAAAAAAAAAAAAAAAAAAAAAAAAAAAAAAAAAAAAAAAAAAAAAAAAAAAAAAAAAAAAAAAAAAB/9k=' width='200' height='133' class=\"itemThumbnail\">\n",
       "                       </a>\n",
       "                    </div>\n",
       "\n",
       "                    <div class=\"item_right\"     style=\"float: none; width: auto; overflow: hidden;\">\n",
       "                        <a href='https://liy.esrichina.com/arcgis/home/item.html?id=7d8d7d5a15d945408eddde0ba38c925d' target='_blank'><b>csvfile</b>\n",
       "                        </a>\n",
       "                        <br/><img src='https://liy.esrichina.com/arcgis/home/js/jsapi/esri/css/images/item_type_icons/featureshosted16.png' style=\"vertical-align:middle;\">Feature Layer Collection by arcgis\n",
       "                        <br/>Last Modified: 三月 06, 2018\n",
       "                        <br/>0 comments, 3 views\n",
       "                    </div>\n",
       "                </div>\n",
       "                "
      ],
      "text/plain": [
       "<Item title:\"csvfile\" type:Feature Layer Collection owner:arcgis>"
      ]
     },
     "execution_count": 8,
     "metadata": {},
     "output_type": "execute_result"
    }
   ],
   "source": [
    "# Search for 'USA major cities' feature layer collection\n",
    "search_results = gis.content.search('title: csvfile','Feature Layer')\n",
    "\n",
    "# Access the first Item that's returned\n",
    "major_cities_item = search_results[0]\n",
    "\n",
    "major_cities_item"
   ]
  },
  {
   "cell_type": "code",
   "execution_count": 11,
   "metadata": {},
   "outputs": [
    {
     "data": {
      "text/plain": [
       "[<FeatureLayer url:\"http://liy.esrichina.com/server/rest/services/Hosted/csvfile/FeatureServer/0\">]"
      ]
     },
     "execution_count": 11,
     "metadata": {},
     "output_type": "execute_result"
    }
   ],
   "source": [
    "csvlayer=major_cities_item.layers\n",
    "csvlayer"
   ]
  },
  {
   "cell_type": "markdown",
   "metadata": {},
   "source": [
    "#### 2. Accessing feature layers using item id 通过item id去管理feature layers"
   ]
  },
  {
   "cell_type": "code",
   "execution_count": 12,
   "metadata": {},
   "outputs": [
    {
     "data": {
      "text/plain": [
       "[<FeatureLayer url:\"http://liy.esrichina.com/server/rest/services/Hosted/csvfile/FeatureServer/0\">]"
      ]
     },
     "execution_count": 12,
     "metadata": {},
     "output_type": "execute_result"
    }
   ],
   "source": [
    "csvidlayer = gis.content.get('7d8d7d5a15d945408eddde0ba38c925d')\n",
    "csvidlayer.layers"
   ]
  },
  {
   "cell_type": "markdown",
   "metadata": {},
   "source": [
    "#### 3.Accessing feature layers from a feature layer url 通过url去管理"
   ]
  },
  {
   "cell_type": "code",
   "execution_count": 13,
   "metadata": {},
   "outputs": [
    {
     "data": {
      "text/plain": [
       "<FeatureLayer url:\"https://liy.esrichina.com/server/rest/services/Hosted/csvfile/FeatureServer\">"
      ]
     },
     "execution_count": 13,
     "metadata": {},
     "output_type": "execute_result"
    }
   ],
   "source": [
    "#从arcgis.features中导入FeatureLayer\n",
    "from arcgis.features import FeatureLayer\n",
    "url = \"https://liy.esrichina.com/server/rest/services/Hosted/csvfile/FeatureServer\"\n",
    "FeatureLayer(url)"
   ]
  },
  {
   "cell_type": "markdown",
   "metadata": {},
   "source": [
    "#### 4.Accessing feature layers and tables from feature services 用FeatureLayerCollection可以管理featurelayer以及table"
   ]
  },
  {
   "cell_type": "code",
   "execution_count": 17,
   "metadata": {},
   "outputs": [
    {
     "data": {
      "text/plain": [
       "<FeatureLayerCollection url:\"http://sampleserver3.arcgisonline.com/ArcGIS/rest/services/SanFrancisco/311Incidents/FeatureServer\">"
      ]
     },
     "execution_count": 17,
     "metadata": {},
     "output_type": "execute_result"
    }
   ],
   "source": [
    "from arcgis.features import FeatureLayerCollection\n",
    "fs_url = 'http://sampleserver3.arcgisonline.com/ArcGIS/rest/services/SanFrancisco/311Incidents/FeatureServer'\n",
    "sanfran = FeatureLayerCollection(fs_url)\n",
    "sanfran"
   ]
  },
  {
   "cell_type": "code",
   "execution_count": 16,
   "metadata": {},
   "outputs": [
    {
     "name": "stdout",
     "output_type": "stream",
     "text": [
      "[<FeatureLayer url:\"http://sampleserver3.arcgisonline.com/ArcGIS/rest/services/SanFrancisco/311Incidents/FeatureServer/0\">]\n",
      "[<Table url:\"http://sampleserver3.arcgisonline.com/ArcGIS/rest/services/SanFrancisco/311Incidents/FeatureServer/1\">]\n"
     ]
    }
   ],
   "source": [
    "print(sanfran.layers)\n",
    "print(sanfran.tables)"
   ]
  },
  {
   "cell_type": "markdown",
   "metadata": {},
   "source": [
    "### Querying feature layers 查询"
   ]
  },
  {
   "cell_type": "code",
   "execution_count": 21,
   "metadata": {},
   "outputs": [
    {
     "data": {
      "text/html": [
       "<div>\n",
       "<style scoped>\n",
       "    .dataframe tbody tr th:only-of-type {\n",
       "        vertical-align: middle;\n",
       "    }\n",
       "\n",
       "    .dataframe tbody tr th {\n",
       "        vertical-align: top;\n",
       "    }\n",
       "\n",
       "    .dataframe thead th {\n",
       "        text-align: right;\n",
       "    }\n",
       "</style>\n",
       "<table border=\"1\" class=\"dataframe\">\n",
       "  <thead>\n",
       "    <tr style=\"text-align: right;\">\n",
       "      <th></th>\n",
       "      <th>name</th>\n",
       "      <th>objectid</th>\n",
       "      <th>SHAPE</th>\n",
       "    </tr>\n",
       "  </thead>\n",
       "  <tbody>\n",
       "    <tr>\n",
       "      <th>0</th>\n",
       "      <td>BALD MOUNTAIN OREGON, OR US</td>\n",
       "      <td>1</td>\n",
       "      <td>{'x': -13180695.2518, 'y': 5396925.8527000025,...</td>\n",
       "    </tr>\n",
       "    <tr>\n",
       "      <th>1</th>\n",
       "      <td>BALD MOUNTAIN OREGON, OR US</td>\n",
       "      <td>2</td>\n",
       "      <td>{'x': -13180695.2518, 'y': 5396925.8527000025,...</td>\n",
       "    </tr>\n",
       "    <tr>\n",
       "      <th>2</th>\n",
       "      <td>BALD MOUNTAIN OREGON, OR US</td>\n",
       "      <td>3</td>\n",
       "      <td>{'x': -13180695.2518, 'y': 5396925.8527000025,...</td>\n",
       "    </tr>\n",
       "    <tr>\n",
       "      <th>3</th>\n",
       "      <td>BALD MOUNTAIN OREGON, OR US</td>\n",
       "      <td>4</td>\n",
       "      <td>{'x': -13180695.2518, 'y': 5396925.8527000025,...</td>\n",
       "    </tr>\n",
       "    <tr>\n",
       "      <th>4</th>\n",
       "      <td>BALD MOUNTAIN OREGON, OR US</td>\n",
       "      <td>5</td>\n",
       "      <td>{'x': -13180695.2518, 'y': 5396925.8527000025,...</td>\n",
       "    </tr>\n",
       "    <tr>\n",
       "      <th>5</th>\n",
       "      <td>BALD MOUNTAIN OREGON, OR US</td>\n",
       "      <td>6</td>\n",
       "      <td>{'x': -13180695.2518, 'y': 5396925.8527000025,...</td>\n",
       "    </tr>\n",
       "    <tr>\n",
       "      <th>6</th>\n",
       "      <td>BALD MOUNTAIN OREGON, OR US</td>\n",
       "      <td>7</td>\n",
       "      <td>{'x': -13180695.2518, 'y': 5396925.8527000025,...</td>\n",
       "    </tr>\n",
       "    <tr>\n",
       "      <th>7</th>\n",
       "      <td>BALD MOUNTAIN OREGON, OR US</td>\n",
       "      <td>8</td>\n",
       "      <td>{'x': -13180695.2518, 'y': 5396925.8527000025,...</td>\n",
       "    </tr>\n",
       "    <tr>\n",
       "      <th>8</th>\n",
       "      <td>BASQUE HILLS OREGON, OR US</td>\n",
       "      <td>9</td>\n",
       "      <td>{'x': -13244703.958999999, 'y': 5199208.954999...</td>\n",
       "    </tr>\n",
       "    <tr>\n",
       "      <th>9</th>\n",
       "      <td>BASQUE HILLS OREGON, OR US</td>\n",
       "      <td>10</td>\n",
       "      <td>{'x': -13244703.958999999, 'y': 5199208.954999...</td>\n",
       "    </tr>\n",
       "    <tr>\n",
       "      <th>10</th>\n",
       "      <td>BASQUE HILLS OREGON, OR US</td>\n",
       "      <td>11</td>\n",
       "      <td>{'x': -13244703.958999999, 'y': 5199208.954999...</td>\n",
       "    </tr>\n",
       "    <tr>\n",
       "      <th>11</th>\n",
       "      <td>BASQUE HILLS OREGON, OR US</td>\n",
       "      <td>12</td>\n",
       "      <td>{'x': -13244703.958999999, 'y': 5199208.954999...</td>\n",
       "    </tr>\n",
       "    <tr>\n",
       "      <th>12</th>\n",
       "      <td>BASQUE HILLS OREGON, OR US</td>\n",
       "      <td>13</td>\n",
       "      <td>{'x': -13244703.958999999, 'y': 5199208.954999...</td>\n",
       "    </tr>\n",
       "    <tr>\n",
       "      <th>13</th>\n",
       "      <td>BASQUE HILLS OREGON, OR US</td>\n",
       "      <td>14</td>\n",
       "      <td>{'x': -13244703.958999999, 'y': 5199208.954999...</td>\n",
       "    </tr>\n",
       "    <tr>\n",
       "      <th>14</th>\n",
       "      <td>BASQUE HILLS OREGON, OR US</td>\n",
       "      <td>15</td>\n",
       "      <td>{'x': -13244703.958999999, 'y': 5199208.954999...</td>\n",
       "    </tr>\n",
       "    <tr>\n",
       "      <th>15</th>\n",
       "      <td>BASQUE HILLS OREGON, OR US</td>\n",
       "      <td>16</td>\n",
       "      <td>{'x': -13244703.958999999, 'y': 5199208.954999...</td>\n",
       "    </tr>\n",
       "    <tr>\n",
       "      <th>16</th>\n",
       "      <td>BANGOR INTERNATIONAL AIRPORT, ME US</td>\n",
       "      <td>17</td>\n",
       "      <td>{'x': -7660840.3772, 'y': 5589745.205799997, '...</td>\n",
       "    </tr>\n",
       "    <tr>\n",
       "      <th>17</th>\n",
       "      <td>BANGOR INTERNATIONAL AIRPORT, ME US</td>\n",
       "      <td>18</td>\n",
       "      <td>{'x': -7660840.3772, 'y': 5589745.205799997, '...</td>\n",
       "    </tr>\n",
       "    <tr>\n",
       "      <th>18</th>\n",
       "      <td>BANGOR INTERNATIONAL AIRPORT, ME US</td>\n",
       "      <td>19</td>\n",
       "      <td>{'x': -7660840.3772, 'y': 5589745.205799997, '...</td>\n",
       "    </tr>\n",
       "    <tr>\n",
       "      <th>19</th>\n",
       "      <td>BANGOR INTERNATIONAL AIRPORT, ME US</td>\n",
       "      <td>20</td>\n",
       "      <td>{'x': -7660840.3772, 'y': 5589745.205799997, '...</td>\n",
       "    </tr>\n",
       "    <tr>\n",
       "      <th>20</th>\n",
       "      <td>BANGOR INTERNATIONAL AIRPORT, ME US</td>\n",
       "      <td>21</td>\n",
       "      <td>{'x': -7660840.3772, 'y': 5589745.205799997, '...</td>\n",
       "    </tr>\n",
       "    <tr>\n",
       "      <th>21</th>\n",
       "      <td>BANGOR INTERNATIONAL AIRPORT, ME US</td>\n",
       "      <td>22</td>\n",
       "      <td>{'x': -7660840.3772, 'y': 5589745.205799997, '...</td>\n",
       "    </tr>\n",
       "    <tr>\n",
       "      <th>22</th>\n",
       "      <td>BANGOR INTERNATIONAL AIRPORT, ME US</td>\n",
       "      <td>23</td>\n",
       "      <td>{'x': -7660840.3772, 'y': 5589745.205799997, '...</td>\n",
       "    </tr>\n",
       "    <tr>\n",
       "      <th>23</th>\n",
       "      <td>BANGOR INTERNATIONAL AIRPORT, ME US</td>\n",
       "      <td>24</td>\n",
       "      <td>{'x': -7660840.3772, 'y': 5589745.205799997, '...</td>\n",
       "    </tr>\n",
       "    <tr>\n",
       "      <th>24</th>\n",
       "      <td>BYRON, MN US</td>\n",
       "      <td>25</td>\n",
       "      <td>{'x': -10312637.6271, 'y': 5479519.9604, 'spat...</td>\n",
       "    </tr>\n",
       "    <tr>\n",
       "      <th>25</th>\n",
       "      <td>BYRON, MN US</td>\n",
       "      <td>26</td>\n",
       "      <td>{'x': -10312637.6271, 'y': 5479519.9604, 'spat...</td>\n",
       "    </tr>\n",
       "    <tr>\n",
       "      <th>26</th>\n",
       "      <td>BYRON, MN US</td>\n",
       "      <td>27</td>\n",
       "      <td>{'x': -10312637.6271, 'y': 5479519.9604, 'spat...</td>\n",
       "    </tr>\n",
       "    <tr>\n",
       "      <th>27</th>\n",
       "      <td>BYRON, MN US</td>\n",
       "      <td>28</td>\n",
       "      <td>{'x': -10312637.6271, 'y': 5479519.9604, 'spat...</td>\n",
       "    </tr>\n",
       "    <tr>\n",
       "      <th>28</th>\n",
       "      <td>BYRON, MN US</td>\n",
       "      <td>29</td>\n",
       "      <td>{'x': -10312637.6271, 'y': 5479519.9604, 'spat...</td>\n",
       "    </tr>\n",
       "    <tr>\n",
       "      <th>29</th>\n",
       "      <td>BYRON, MN US</td>\n",
       "      <td>30</td>\n",
       "      <td>{'x': -10312637.6271, 'y': 5479519.9604, 'spat...</td>\n",
       "    </tr>\n",
       "    <tr>\n",
       "      <th>30</th>\n",
       "      <td>BYRON, MN US</td>\n",
       "      <td>31</td>\n",
       "      <td>{'x': -10312637.6271, 'y': 5479519.9604, 'spat...</td>\n",
       "    </tr>\n",
       "  </tbody>\n",
       "</table>\n",
       "</div>"
      ],
      "text/plain": [
       "                                   name  objectid  \\\n",
       "0           BALD MOUNTAIN OREGON, OR US         1   \n",
       "1           BALD MOUNTAIN OREGON, OR US         2   \n",
       "2           BALD MOUNTAIN OREGON, OR US         3   \n",
       "3           BALD MOUNTAIN OREGON, OR US         4   \n",
       "4           BALD MOUNTAIN OREGON, OR US         5   \n",
       "5           BALD MOUNTAIN OREGON, OR US         6   \n",
       "6           BALD MOUNTAIN OREGON, OR US         7   \n",
       "7           BALD MOUNTAIN OREGON, OR US         8   \n",
       "8            BASQUE HILLS OREGON, OR US         9   \n",
       "9            BASQUE HILLS OREGON, OR US        10   \n",
       "10           BASQUE HILLS OREGON, OR US        11   \n",
       "11           BASQUE HILLS OREGON, OR US        12   \n",
       "12           BASQUE HILLS OREGON, OR US        13   \n",
       "13           BASQUE HILLS OREGON, OR US        14   \n",
       "14           BASQUE HILLS OREGON, OR US        15   \n",
       "15           BASQUE HILLS OREGON, OR US        16   \n",
       "16  BANGOR INTERNATIONAL AIRPORT, ME US        17   \n",
       "17  BANGOR INTERNATIONAL AIRPORT, ME US        18   \n",
       "18  BANGOR INTERNATIONAL AIRPORT, ME US        19   \n",
       "19  BANGOR INTERNATIONAL AIRPORT, ME US        20   \n",
       "20  BANGOR INTERNATIONAL AIRPORT, ME US        21   \n",
       "21  BANGOR INTERNATIONAL AIRPORT, ME US        22   \n",
       "22  BANGOR INTERNATIONAL AIRPORT, ME US        23   \n",
       "23  BANGOR INTERNATIONAL AIRPORT, ME US        24   \n",
       "24                         BYRON, MN US        25   \n",
       "25                         BYRON, MN US        26   \n",
       "26                         BYRON, MN US        27   \n",
       "27                         BYRON, MN US        28   \n",
       "28                         BYRON, MN US        29   \n",
       "29                         BYRON, MN US        30   \n",
       "30                         BYRON, MN US        31   \n",
       "\n",
       "                                                SHAPE  \n",
       "0   {'x': -13180695.2518, 'y': 5396925.8527000025,...  \n",
       "1   {'x': -13180695.2518, 'y': 5396925.8527000025,...  \n",
       "2   {'x': -13180695.2518, 'y': 5396925.8527000025,...  \n",
       "3   {'x': -13180695.2518, 'y': 5396925.8527000025,...  \n",
       "4   {'x': -13180695.2518, 'y': 5396925.8527000025,...  \n",
       "5   {'x': -13180695.2518, 'y': 5396925.8527000025,...  \n",
       "6   {'x': -13180695.2518, 'y': 5396925.8527000025,...  \n",
       "7   {'x': -13180695.2518, 'y': 5396925.8527000025,...  \n",
       "8   {'x': -13244703.958999999, 'y': 5199208.954999...  \n",
       "9   {'x': -13244703.958999999, 'y': 5199208.954999...  \n",
       "10  {'x': -13244703.958999999, 'y': 5199208.954999...  \n",
       "11  {'x': -13244703.958999999, 'y': 5199208.954999...  \n",
       "12  {'x': -13244703.958999999, 'y': 5199208.954999...  \n",
       "13  {'x': -13244703.958999999, 'y': 5199208.954999...  \n",
       "14  {'x': -13244703.958999999, 'y': 5199208.954999...  \n",
       "15  {'x': -13244703.958999999, 'y': 5199208.954999...  \n",
       "16  {'x': -7660840.3772, 'y': 5589745.205799997, '...  \n",
       "17  {'x': -7660840.3772, 'y': 5589745.205799997, '...  \n",
       "18  {'x': -7660840.3772, 'y': 5589745.205799997, '...  \n",
       "19  {'x': -7660840.3772, 'y': 5589745.205799997, '...  \n",
       "20  {'x': -7660840.3772, 'y': 5589745.205799997, '...  \n",
       "21  {'x': -7660840.3772, 'y': 5589745.205799997, '...  \n",
       "22  {'x': -7660840.3772, 'y': 5589745.205799997, '...  \n",
       "23  {'x': -7660840.3772, 'y': 5589745.205799997, '...  \n",
       "24  {'x': -10312637.6271, 'y': 5479519.9604, 'spat...  \n",
       "25  {'x': -10312637.6271, 'y': 5479519.9604, 'spat...  \n",
       "26  {'x': -10312637.6271, 'y': 5479519.9604, 'spat...  \n",
       "27  {'x': -10312637.6271, 'y': 5479519.9604, 'spat...  \n",
       "28  {'x': -10312637.6271, 'y': 5479519.9604, 'spat...  \n",
       "29  {'x': -10312637.6271, 'y': 5479519.9604, 'spat...  \n",
       "30  {'x': -10312637.6271, 'y': 5479519.9604, 'spat...  "
      ]
     },
     "execution_count": 21,
     "metadata": {},
     "output_type": "execute_result"
    }
   ],
   "source": [
    "csvfeaturelayer=csvidlayer.layers[0]\n",
    "querycsv=csvfeaturelayer.query(where=\"1=1\",\n",
    "                               out_fields=\"name\")\n",
    "querycsv.df"
   ]
  },
  {
   "cell_type": "code",
   "execution_count": null,
   "metadata": {},
   "outputs": [],
   "source": []
  }
 ],
 "metadata": {
  "kernelspec": {
   "display_name": "Python [conda env:arcgispython]",
   "language": "python",
   "name": "conda-env-arcgispython-py"
  },
  "language_info": {
   "codemirror_mode": {
    "name": "ipython",
    "version": 3
   },
   "file_extension": ".py",
   "mimetype": "text/x-python",
   "name": "python",
   "nbconvert_exporter": "python",
   "pygments_lexer": "ipython3",
   "version": "3.6.4"
  }
 },
 "nbformat": 4,
 "nbformat_minor": 2
}
