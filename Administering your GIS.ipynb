{
 "cells": [
  {
   "cell_type": "markdown",
   "metadata": {},
   "source": [
    "## <center> Administering your GIS</center>"
   ]
  },
  {
   "cell_type": "markdown",
   "metadata": {},
   "source": [
    "<img src=\"http://esri.github.io/arcgis-python-api/notebooks/nbimages/guide_gis_admin_module_01.png\"></img>"
   ]
  },
  {
   "cell_type": "markdown",
   "metadata": {},
   "source": [
    "### Managing your GIS servers\n",
    "    在ArcGIS API for Python 1.2版本 引入了gis.admin模块，来管理ArcGIS servers"
   ]
  },
  {
   "cell_type": "code",
   "execution_count": 1,
   "metadata": {},
   "outputs": [],
   "source": [
    "from arcgis.gis import GIS\n",
    "portal =  GIS(\"https://liy.esrichina.com/arcgis\", \"arcgis\", \"Super123\",verify_cert=False)"
   ]
  },
  {
   "cell_type": "code",
   "execution_count": 2,
   "metadata": {},
   "outputs": [
    {
     "data": {
      "text/plain": [
       "[<Server at https://liy.esrichina.com:6443/arcgis/admin>]"
      ]
     },
     "execution_count": 2,
     "metadata": {},
     "output_type": "execute_result"
    }
   ],
   "source": [
    "#获取联合或托管到portal的server\n",
    "gisserver = portal.admin.servers.list()\n",
    "gisserver"
   ]
  },
  {
   "cell_type": "code",
   "execution_count": 3,
   "metadata": {},
   "outputs": [
    {
     "data": {
      "text/plain": [
       "True"
      ]
     },
     "execution_count": 3,
     "metadata": {},
     "output_type": "execute_result"
    }
   ],
   "source": [
    "#Validate your servers验证servr\n",
    "portal.admin.servers.validate()"
   ]
  },
  {
   "cell_type": "markdown",
   "metadata": {},
   "source": [
    "### Managing the services on your server 管理服务"
   ]
  },
  {
   "cell_type": "code",
   "execution_count": 4,
   "metadata": {},
   "outputs": [
    {
     "name": "stdout",
     "output_type": "stream",
     "text": [
      "[<Service at https://liy.esrichina.com:6443/arcgis/admin/services/SampleWorldCities.MapServer>]\n"
     ]
    },
    {
     "data": {
      "text/plain": [
       "['cache', 'Hosted', 'System', 'Utilities', '/']"
      ]
     },
     "execution_count": 4,
     "metadata": {},
     "output_type": "execute_result"
    }
   ],
   "source": [
    "server=gisserver[0]\n",
    "#列出根目录下的服务\n",
    "print(server.services.list())\n",
    "#列出所有的文件夹\n",
    "server.services.folders"
   ]
  },
  {
   "cell_type": "code",
   "execution_count": 5,
   "metadata": {},
   "outputs": [
    {
     "data": {
      "text/plain": [
       "[<Service at https://liy.esrichina.com:6443/arcgis/admin/services/cache/bord.ImageServer>,\n",
       " <Service at https://liy.esrichina.com:6443/arcgis/admin/services/cache/cache.MapServer>,\n",
       " <Service at https://liy.esrichina.com:6443/arcgis/admin/services/cache/server.MapServer>]"
      ]
     },
     "execution_count": 5,
     "metadata": {},
     "output_type": "execute_result"
    }
   ],
   "source": [
    "#列出某文件夹下的服务\n",
    "hosted_services = server.services.list(folder='cache')\n",
    "\n",
    "#print the top 5 as a sample\n",
    "hosted_services[0:4]"
   ]
  },
  {
   "cell_type": "markdown",
   "metadata": {},
   "source": [
    "### Checking if a service exists 检查服务是否存在"
   ]
  },
  {
   "cell_type": "code",
   "execution_count": 6,
   "metadata": {},
   "outputs": [
    {
     "data": {
      "text/plain": [
       "True"
      ]
     },
     "execution_count": 6,
     "metadata": {},
     "output_type": "execute_result"
    }
   ],
   "source": [
    "server.services.exists(folder_name='cache', name='cache', service_type='MapServer')"
   ]
  },
  {
   "cell_type": "markdown",
   "metadata": {},
   "source": [
    "### Managing service folders 管理server的文件夹"
   ]
  },
  {
   "cell_type": "code",
   "execution_count": 7,
   "metadata": {},
   "outputs": [
    {
     "data": {
      "text/plain": [
       "True"
      ]
     },
     "execution_count": 7,
     "metadata": {},
     "output_type": "execute_result"
    }
   ],
   "source": [
    "# 创建文件夹\n",
    "server.services.create_folder('python')"
   ]
  },
  {
   "cell_type": "code",
   "execution_count": 8,
   "metadata": {},
   "outputs": [
    {
     "data": {
      "text/plain": [
       "True"
      ]
     },
     "execution_count": 8,
     "metadata": {},
     "output_type": "execute_result"
    }
   ],
   "source": [
    "# 删除文件夹\n",
    "server.services.delete_folder('python')"
   ]
  },
  {
   "cell_type": "code",
   "execution_count": 9,
   "metadata": {},
   "outputs": [
    {
     "data": {
      "text/plain": [
       "arcgis.gis.server.admin._services.Service"
      ]
     },
     "execution_count": 9,
     "metadata": {},
     "output_type": "execute_result"
    }
   ],
   "source": [
    "sampleworld = server.services.list()[-1]\n",
    "type(sampleworld)"
   ]
  },
  {
   "cell_type": "code",
   "execution_count": 10,
   "metadata": {},
   "outputs": [
    {
     "data": {
      "text/plain": [
       "{\n",
       "  \"serviceName\": \"SampleWorldCities\",\n",
       "  \"type\": \"MapServer\",\n",
       "  \"description\": \"SampleWorldCities \\u670d\\u52a1\\u7528\\u4e8e\\u5feb\\u901f\\u8f7b\\u677e\\u5730\\u9884\\u89c8 GIS \\u670d\\u52a1\\u5668\\u7684\\u529f\\u80fd\\u3002\\u5355\\u51fb\\u7f29\\u7565\\u56fe\\u56fe\\u50cf\\u53ef\\u4ee5\\u5728 web \\u5e94\\u7528\\u7a0b\\u5e8f\\u4e2d\\u6253\\u5f00\\u5b83\\u3002\\u6b64\\u5b9e\\u4f8b\\u670d\\u52a1\\u4e3a\\u53ef\\u9009\\u670d\\u52a1\\uff0c\\u56e0\\u6b64\\u53ef\\u4ee5\\u5220\\u9664\\u3002\",\n",
       "  \"capabilities\": \"Map,Query,Data\",\n",
       "  \"provider\": \"ArcObjects\",\n",
       "  \"clusterName\": \"default\",\n",
       "  \"minInstancesPerNode\": 1,\n",
       "  \"maxInstancesPerNode\": 1,\n",
       "  \"instancesPerContainer\": 1,\n",
       "  \"maxWaitTime\": 60,\n",
       "  \"maxStartupTime\": 300,\n",
       "  \"maxIdleTime\": 180,\n",
       "  \"maxUsageTime\": 600,\n",
       "  \"loadBalancing\": \"ROUND_ROBIN\",\n",
       "  \"isolationLevel\": \"HIGH\",\n",
       "  \"configuredState\": \"STARTED\",\n",
       "  \"recycleInterval\": 24,\n",
       "  \"recycleStartTime\": \"00:00\",\n",
       "  \"keepAliveInterval\": -1,\n",
       "  \"private\": false,\n",
       "  \"isDefault\": false,\n",
       "  \"maxUploadFileSize\": 0,\n",
       "  \"allowedUploadFileTypes\": \"\",\n",
       "  \"properties\": {\n",
       "    \"useLocalCacheDir\": \"true\",\n",
       "    \"outputDir\": \"E:\\\\arcgisserver\\\\directories\\\\arcgisoutput\",\n",
       "    \"cacheDir\": \"E:\\\\arcgisserver\\\\directories\\\\arcgiscache\",\n",
       "    \"maxScale\": \"4000\",\n",
       "    \"filePath\": \"${AGSSERVER}/framework/etc/data/WorldCities/WorldCities.msd\",\n",
       "    \"maxRecordCount\": \"1000\",\n",
       "    \"supportedImageReturnTypes\": \"MIME+URL\",\n",
       "    \"clientCachingAllowed\": \"true\",\n",
       "    \"isCached\": \"false\",\n",
       "    \"virtualOutputDir\": \"/rest/directories/arcgisoutput\",\n",
       "    \"maxExportTilesCount\": \"100000\",\n",
       "    \"ignoreCache\": \"false\",\n",
       "    \"exportTilesAllowed\": \"false\",\n",
       "    \"cacheOnDemand\": \"false\",\n",
       "    \"minScale\": \"295000000\"\n",
       "  },\n",
       "  \"portalProperties\": {\n",
       "    \"isHosted\": false,\n",
       "    \"portalItems\": [\n",
       "      {\n",
       "        \"itemID\": \"13027a1d6e3a453d85bc2d52f997ee9a\",\n",
       "        \"type\": \"MapServer\"\n",
       "      },\n",
       "      {\n",
       "        \"itemID\": \"96f316aa93524b7a90ffada3fc731bbd\",\n",
       "        \"type\": \"WMSServer\"\n",
       "      }\n",
       "    ]\n",
       "  },\n",
       "  \"extensions\": [\n",
       "    {\n",
       "      \"typeName\": \"WMSServer\",\n",
       "      \"capabilities\": \"GetCapabilities,GetFeatureInfo,GetLegendGraphic,GetMap,GetSchemaExtension,GetStyles\",\n",
       "      \"enabled\": \"true\",\n",
       "      \"maxUploadFileSize\": 0,\n",
       "      \"allowedUploadFileTypes\": \"\",\n",
       "      \"properties\": {\n",
       "        \"name\": \"SampleWorldCities\",\n",
       "        \"title\": \"WMS\"\n",
       "      }\n",
       "    },\n",
       "    {\n",
       "      \"typeName\": \"KmlServer\",\n",
       "      \"capabilities\": \"SingleImage,SeparateImages,Vectors\",\n",
       "      \"enabled\": \"true\",\n",
       "      \"maxUploadFileSize\": 0,\n",
       "      \"allowedUploadFileTypes\": \"\",\n",
       "      \"properties\": {\n",
       "        \"compatibilityMode\": \"GoogleEarth\",\n",
       "        \"useDefaultSnippets\": \"true\",\n",
       "        \"featureLimit\": \"1000000\",\n",
       "        \"minRefreshPeriod\": \"30\",\n",
       "        \"imageSize\": \"1024\",\n",
       "        \"dpi\": \"96\"\n",
       "      }\n",
       "    },\n",
       "    {\n",
       "      \"typeName\": \"FeatureServer\",\n",
       "      \"capabilities\": \"Create,Query,Update,Delete,Uploads\",\n",
       "      \"enabled\": \"false\",\n",
       "      \"maxUploadFileSize\": 0,\n",
       "      \"allowedUploadFileTypes\": \"\",\n",
       "      \"properties\": {}\n",
       "    }\n",
       "  ],\n",
       "  \"frameworkProperties\": {},\n",
       "  \"datasets\": []\n",
       "}"
      ]
     },
     "execution_count": 10,
     "metadata": {},
     "output_type": "execute_result"
    }
   ],
   "source": [
    "sampleworld.properties"
   ]
  },
  {
   "cell_type": "code",
   "execution_count": 11,
   "metadata": {},
   "outputs": [
    {
     "data": {
      "text/plain": [
       "{'configuredState': 'STARTED', 'realTimeState': 'STARTED'}"
      ]
     },
     "execution_count": 11,
     "metadata": {},
     "output_type": "execute_result"
    }
   ],
   "source": [
    "sampleworld.status\n",
    "#停止service\n",
    "    #sampleworld.stop()\n",
    "#启动service\n",
    "    #sampleworld.start()"
   ]
  },
  {
   "cell_type": "markdown",
   "metadata": {},
   "source": [
    "### Renaming a service 改名"
   ]
  },
  {
   "cell_type": "code",
   "execution_count": 12,
   "metadata": {},
   "outputs": [],
   "source": [
    "# sampleworld.rename()"
   ]
  },
  {
   "cell_type": "markdown",
   "metadata": {},
   "source": [
    "### Managing server data stores 管理server的数据data stores"
   ]
  },
  {
   "cell_type": "code",
   "execution_count": null,
   "metadata": {},
   "outputs": [],
   "source": []
  }
 ],
 "metadata": {
  "kernelspec": {
   "display_name": "Python [conda env:arcgispython]",
   "language": "python",
   "name": "conda-env-arcgispython-py"
  },
  "language_info": {
   "codemirror_mode": {
    "name": "ipython",
    "version": 3
   },
   "file_extension": ".py",
   "mimetype": "text/x-python",
   "name": "python",
   "nbconvert_exporter": "python",
   "pygments_lexer": "ipython3",
   "version": "3.6.4"
  }
 },
 "nbformat": 4,
 "nbformat_minor": 2
}
